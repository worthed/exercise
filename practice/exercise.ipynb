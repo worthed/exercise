{
 "cells": [
  {
   "cell_type": "markdown",
   "metadata": {},
   "source": [
    "# 数据结构"
   ]
  },
  {
   "cell_type": "markdown",
   "metadata": {
    "ExecuteTime": {
     "end_time": "2019-01-22T09:46:26.027977Z",
     "start_time": "2019-01-22T09:46:26.022121Z"
    }
   },
   "source": [
    "## 字符串"
   ]
  },
  {
   "cell_type": "markdown",
   "metadata": {},
   "source": [
    "### 格式转换"
   ]
  },
  {
   "cell_type": "markdown",
   "metadata": {},
   "source": [
    "#### 字符串/json to 字典"
   ]
  },
  {
   "cell_type": "code",
   "execution_count": 40,
   "metadata": {
    "ExecuteTime": {
     "end_time": "2019-01-22T10:23:34.592472Z",
     "start_time": "2019-01-22T10:23:34.583228Z"
    }
   },
   "outputs": [
    {
     "name": "stdout",
     "output_type": "stream",
     "text": [
      "{'key': None, 'value': 2}\n"
     ]
    }
   ],
   "source": [
    "import json\n",
    "str1 = \"{'key':1,'value':2}\"\n",
    "\n",
    "# 内置函数转换\n",
    "eval(str1)\n",
    "\n",
    "# 可将json的null替换为python能识别的None\n",
    "json1= '{\"key\":null,\"value\":2}'\n",
    "dicts = json.loads(json1)\n",
    "print(dicts)"
   ]
  },
  {
   "cell_type": "markdown",
   "metadata": {},
   "source": [
    "### 单双引号使用"
   ]
  },
  {
   "cell_type": "code",
   "execution_count": 2,
   "metadata": {
    "ExecuteTime": {
     "end_time": "2019-01-22T09:48:31.066809Z",
     "start_time": "2019-01-22T09:48:31.059151Z"
    }
   },
   "outputs": [],
   "source": [
    "# 双引号中的双引号需要转义\n",
    "string1 = \"hello，my，\\\"god\\\" \"\n",
    "# 单引号中的双引号不需要转义\n",
    "string2 = 'hello, my \"god\" '"
   ]
  },
  {
   "cell_type": "markdown",
   "metadata": {},
   "source": [
    "### py文件中的sql"
   ]
  },
  {
   "cell_type": "code",
   "execution_count": 6,
   "metadata": {
    "ExecuteTime": {
     "end_time": "2019-01-22T09:57:16.817979Z",
     "start_time": "2019-01-22T09:57:16.809720Z"
    }
   },
   "outputs": [
    {
     "name": "stdout",
     "output_type": "stream",
     "text": [
      "select * from assetwhere asset_id = \"123456\";\n"
     ]
    }
   ],
   "source": [
    "sql_a = 'select * from asset where asset_create_at >= \"2018-08-01\" '\n",
    "\n",
    "# 注意每一个右引号左边都需要空格\n",
    "sql_b = ('select * '\n",
    "         'from asset '\n",
    "         'where asset_id = \"123456\";'\n",
    "         )\n"
   ]
  },
  {
   "cell_type": "markdown",
   "metadata": {},
   "source": [
    "### 转unicode和split"
   ]
  },
  {
   "cell_type": "code",
   "execution_count": 8,
   "metadata": {
    "ExecuteTime": {
     "end_time": "2019-01-22T09:58:05.993897Z",
     "start_time": "2019-01-22T09:58:05.983994Z"
    }
   },
   "outputs": [
    {
     "name": "stdout",
     "output_type": "stream",
     "text": [
      "Hello World！\n",
      "['hello', 'world!']\n",
      "['', '', 'hello', '', 'world!', '', '']\n"
     ]
    }
   ],
   "source": [
    "b = u\"Hi\"  # 转成unicode格式\n",
    "\n",
    "assert 'Hello World！'.istitle() == True  # 判定字符串是否每个单词有且只有第一个字母是大写\n",
    "print('hello world！'.title())  # 将每一个单词的首字母大写\n",
    "\n",
    "# 两种不同的split\n",
    "print('  hello  world!  '.split())\n",
    "print('  hello  world!  '.split(' '))"
   ]
  },
  {
   "cell_type": "markdown",
   "metadata": {},
   "source": [
    "## 元祖"
   ]
  },
  {
   "cell_type": "markdown",
   "metadata": {
    "ExecuteTime": {
     "end_time": "2019-01-22T10:14:55.912274Z",
     "start_time": "2019-01-22T10:14:55.905840Z"
    }
   },
   "source": [
    "### 格式转换"
   ]
  },
  {
   "cell_type": "markdown",
   "metadata": {},
   "source": [
    "#### 元祖to字典"
   ]
  },
  {
   "cell_type": "code",
   "execution_count": 25,
   "metadata": {
    "ExecuteTime": {
     "end_time": "2019-01-22T10:18:49.474221Z",
     "start_time": "2019-01-22T10:18:49.465822Z"
    }
   },
   "outputs": [
    {
     "name": "stdout",
     "output_type": "stream",
     "text": [
      "{'Knights': 'Ni', 'Monty': 'Python', 'SPAM': 'SPAAAM'}\n"
     ]
    }
   ],
   "source": [
    "# 把元组转换成一个字典\n",
    "l = (('Knights', 'Ni'), ('Monty', 'Python'), ('SPAM', 'SPAAAM'))\n",
    "d = dict(l)\n",
    "print(d)"
   ]
  },
  {
   "cell_type": "markdown",
   "metadata": {},
   "source": [
    "## 列表"
   ]
  },
  {
   "cell_type": "markdown",
   "metadata": {},
   "source": [
    "### 格式转换"
   ]
  },
  {
   "cell_type": "markdown",
   "metadata": {},
   "source": [
    "#### 列表to字典"
   ]
  },
  {
   "cell_type": "code",
   "execution_count": null,
   "metadata": {},
   "outputs": [],
   "source": [
    "dict1 = {x: x ** 2 for x in (2, 4, 6)}\n",
    "print(dict1)"
   ]
  },
  {
   "cell_type": "markdown",
   "metadata": {},
   "source": [
    "### 索引"
   ]
  },
  {
   "cell_type": "code",
   "execution_count": 19,
   "metadata": {
    "ExecuteTime": {
     "end_time": "2019-01-22T10:14:13.748555Z",
     "start_time": "2019-01-22T10:14:13.740617Z"
    }
   },
   "outputs": [],
   "source": [
    "# 不适用索引，可以不用使用first_name = l[0]，last_name = l[1]\n",
    "lst = ['David', 'Pythonista', '+1-514-555-1234']\n",
    "first_name, last_name, phone_number = lst\n",
    "# Python 3 Only\n",
    "first, *middle, last = lst"
   ]
  },
  {
   "cell_type": "markdown",
   "metadata": {},
   "source": [
    "### 遍历迭代"
   ]
  },
  {
   "cell_type": "code",
   "execution_count": 9,
   "metadata": {
    "ExecuteTime": {
     "end_time": "2019-01-22T10:00:36.891721Z",
     "start_time": "2019-01-22T10:00:36.883606Z"
    }
   },
   "outputs": [
    {
     "name": "stdout",
     "output_type": "stream",
     "text": [
      "index: 0 element: a\n",
      "index: 1 element: b\n",
      "index: 2 element: c\n",
      "index: 3 element: d\n",
      "index: 4 element: e\n"
     ]
    }
   ],
   "source": [
    "# 遍历列表以及索引\n",
    "li = ['a', 'b', 'c', 'd', 'e']\n",
    "for i, e in enumerate(li):\n",
    "    print(\"index:\",i,\"element:\",e)"
   ]
  },
  {
   "cell_type": "markdown",
   "metadata": {
    "ExecuteTime": {
     "end_time": "2019-01-22T10:17:20.266035Z",
     "start_time": "2019-01-22T10:17:20.262231Z"
    }
   },
   "source": [
    "#### 多列表迭代"
   ]
  },
  {
   "cell_type": "code",
   "execution_count": 22,
   "metadata": {
    "ExecuteTime": {
     "end_time": "2019-01-22T10:17:26.793272Z",
     "start_time": "2019-01-22T10:17:26.787858Z"
    }
   },
   "outputs": [],
   "source": [
    "# 循环嵌套\n",
    "# 不推荐\n",
    "x_list, y_list, z_list = [], [], []\n",
    "for x in x_list:\n",
    "    for y in y_list:\n",
    "        for z in z_list:\n",
    "            None\n",
    "##推荐\n",
    "from itertools import product\n",
    "for x, y, z in product(x_list, y_list, z_list):\n",
    "    None"
   ]
  },
  {
   "cell_type": "markdown",
   "metadata": {},
   "source": [
    "#### 自定义反序迭代"
   ]
  },
  {
   "cell_type": "code",
   "execution_count": 10,
   "metadata": {
    "ExecuteTime": {
     "end_time": "2019-01-22T10:02:24.752438Z",
     "start_time": "2019-01-22T10:02:24.744743Z"
    }
   },
   "outputs": [
    {
     "name": "stdout",
     "output_type": "stream",
     "text": [
      "index: 4 element: e\n",
      "index: 3 element: d\n",
      "index: 2 element: c\n",
      "index: 1 element: b\n",
      "index: 0 element: a\n"
     ]
    }
   ],
   "source": [
    "li = ['a', 'b', 'c', 'd', 'e']\n",
    "def myenumerate(sequence):\n",
    "    n = -1\n",
    "    for elem in reversed(sequence):\n",
    "        yield len(sequence)+n, elem\n",
    "        n = n - 1\n",
    "\n",
    "for i2,e2 in myenumerate(li):\n",
    "    print(\"index:\", i2, \"element:\", e2)"
   ]
  },
  {
   "cell_type": "markdown",
   "metadata": {},
   "source": [
    "### 列表元素批处理\n",
    "使用python的collections模块替代内建容器类型\n",
    "\n",
    "deque：增强功能的类似list类型\n",
    "(列表是基于数组实现的，而deque是基于双链表的，所以后者在中间or前面插入元素，或者删除元素都会快很多)\n",
    "\n",
    "defaultdict：类似dict类型\n",
    "(defaultdict为新的键值添加了一个默认的工厂，可以避免编写一个额外的测试来初始化映射条目，比dict.setdefault更高效)\n",
    "\n",
    "namedtuple：类似tuple类型"
   ]
  },
  {
   "cell_type": "markdown",
   "metadata": {},
   "source": [
    "#### setdefault"
   ]
  },
  {
   "cell_type": "code",
   "execution_count": 41,
   "metadata": {
    "ExecuteTime": {
     "end_time": "2019-01-22T10:27:12.783659Z",
     "start_time": "2019-01-22T10:27:12.771559Z"
    }
   },
   "outputs": [
    {
     "name": "stdout",
     "output_type": "stream",
     "text": [
      "{'p': [1, 2, 3], 'h': [1, 2, 3]}\n"
     ]
    }
   ],
   "source": [
    "result1 = {}\n",
    "data1 = [(\"p\", 1), (\"p\", 2), (\"p\", 3),\n",
    "        (\"h\", 1), (\"h\", 2), (\"h\", 3)]\n",
    "for (key, value) in data1:\n",
    "    result1.setdefault(key, []).append(value)\n",
    "print(result1)"
   ]
  },
  {
   "cell_type": "markdown",
   "metadata": {},
   "source": [
    "#### defaultdict"
   ]
  },
  {
   "cell_type": "code",
   "execution_count": 43,
   "metadata": {
    "ExecuteTime": {
     "end_time": "2019-01-22T10:27:47.686686Z",
     "start_time": "2019-01-22T10:27:47.676245Z"
    }
   },
   "outputs": [
    {
     "name": "stdout",
     "output_type": "stream",
     "text": [
      "defaultdict(<class 'list'>, {'p': [1, 2, 3], 'h': [1, 2, 3]})\n"
     ]
    }
   ],
   "source": [
    "# use defaultdict 性能更好\n",
    "from collections import defaultdict\n",
    "\n",
    "data2 = [(\"p\", 1), (\"p\", 2), (\"p\", 3),\n",
    "        (\"h\", 1), (\"h\", 2), (\"h\", 3)]\n",
    "result2 = defaultdict(list)\n",
    "for (key, value) in data2:\n",
    "    result2[key].append(value)\n",
    "\n",
    "print(result2)"
   ]
  },
  {
   "cell_type": "markdown",
   "metadata": {},
   "source": [
    "## 字典"
   ]
  },
  {
   "cell_type": "markdown",
   "metadata": {},
   "source": [
    "### 遍历迭代"
   ]
  },
  {
   "cell_type": "code",
   "execution_count": 11,
   "metadata": {
    "ExecuteTime": {
     "end_time": "2019-01-22T10:03:12.932763Z",
     "start_time": "2019-01-22T10:03:12.926446Z"
    }
   },
   "outputs": [
    {
     "name": "stdout",
     "output_type": "stream",
     "text": [
      "name joe\n",
      "age 20\n",
      "hobby football\n"
     ]
    }
   ],
   "source": [
    "personinfo = {'name': 'joe', 'age':'20', 'hobby':'football'}\n",
    "for k, v in personinfo.items():\n",
    "    print(k, v)"
   ]
  },
  {
   "cell_type": "markdown",
   "metadata": {},
   "source": [
    "## 内置函数"
   ]
  },
  {
   "cell_type": "markdown",
   "metadata": {},
   "source": [
    "### all 迭代对象判断"
   ]
  },
  {
   "cell_type": "code",
   "execution_count": null,
   "metadata": {},
   "outputs": [],
   "source": [
    "# 如果可迭代的对象(数组，字符串，列表等，下同)中的元素都是 true (或者为空)的话返回 True\n",
    "# all(iterable)"
   ]
  },
  {
   "cell_type": "markdown",
   "metadata": {},
   "source": [
    "### any 迭代对象判断"
   ]
  },
  {
   "cell_type": "code",
   "execution_count": null,
   "metadata": {},
   "outputs": [],
   "source": [
    "# 如果可迭代的对象中任何一个元素为 true 的话返回 True 。如果可迭代的对象为空则返回 False\n",
    "# any(iterable)"
   ]
  },
  {
   "cell_type": "markdown",
   "metadata": {},
   "source": [
    "### cmp 比较两个对象大小"
   ]
  },
  {
   "cell_type": "code",
   "execution_count": null,
   "metadata": {},
   "outputs": [],
   "source": [
    "# 比较两个对象 x 和 y 。 x < y 的时候返回负数， x ==y 的时候返回 0， x > y 的时候返回正数\n",
    "# cmp(x, y)"
   ]
  },
  {
   "cell_type": "markdown",
   "metadata": {},
   "source": [
    "### pow 返回 x 的 y 次幂"
   ]
  },
  {
   "cell_type": "code",
   "execution_count": 44,
   "metadata": {
    "ExecuteTime": {
     "end_time": "2019-01-22T10:32:38.348793Z",
     "start_time": "2019-01-22T10:32:38.341502Z"
    }
   },
   "outputs": [
    {
     "name": "stdout",
     "output_type": "stream",
     "text": [
      "25\n"
     ]
    }
   ],
   "source": [
    "# 返回 x 的 y 次幂(如果 z 存在的话则以 z 为模)\n",
    "# pow(x, y [,z])  等同于 mod = (x ** y) % z，可以极大的提升速度\n",
    "print(pow(1234567,4567676,56))"
   ]
  },
  {
   "cell_type": "markdown",
   "metadata": {
    "ExecuteTime": {
     "end_time": "2019-01-22T10:05:22.803016Z",
     "start_time": "2019-01-22T10:05:22.795528Z"
    }
   },
   "source": [
    "# 高级编程"
   ]
  },
  {
   "cell_type": "markdown",
   "metadata": {
    "ExecuteTime": {
     "end_time": "2019-01-22T10:05:36.862338Z",
     "start_time": "2019-01-22T10:05:36.859234Z"
    }
   },
   "source": [
    "## 生成器"
   ]
  },
  {
   "cell_type": "markdown",
   "metadata": {},
   "source": [
    "### 列表生成器"
   ]
  },
  {
   "cell_type": "code",
   "execution_count": 17,
   "metadata": {
    "ExecuteTime": {
     "end_time": "2019-01-22T10:12:23.937733Z",
     "start_time": "2019-01-22T10:12:23.928071Z"
    }
   },
   "outputs": [
    {
     "name": "stdout",
     "output_type": "stream",
     "text": [
      "[3, 4]\n",
      "[6, 8]\n",
      "{2: 4, 4: 16, 6: 36}\n",
      "{2: 'item4', 4: 'item16', 6: 'item36'}\n",
      "{'h', 'r', 'd'}\n"
     ]
    }
   ],
   "source": [
    "ls = [1, 2, 3, 4]\n",
    "list1 = [i for i in ls if i > 2]\n",
    "print(list1)\n",
    "\n",
    "list2 = [i * 2 for i in ls if i > 2]\n",
    "print(list2)\n",
    "\n",
    "dict1 = {x: x ** 2 for x in (2, 4, 6)}\n",
    "print(dict1)\n",
    "\n",
    "dict2 = {x: 'item' + str(x ** 2) for x in (2, 4, 6)}\n",
    "print(dict2)\n",
    "\n",
    "set1 = {x for x in 'hello world' if x not in 'low level'}\n",
    "print(set1)\n"
   ]
  },
  {
   "cell_type": "markdown",
   "metadata": {},
   "source": [
    "### 需要bool判断的生成器"
   ]
  },
  {
   "cell_type": "code",
   "execution_count": 15,
   "metadata": {
    "ExecuteTime": {
     "end_time": "2019-01-22T10:06:11.183079Z",
     "start_time": "2019-01-22T10:06:11.172191Z"
    }
   },
   "outputs": [
    {
     "name": "stdout",
     "output_type": "stream",
     "text": [
      "101\n",
      "102\n",
      "103\n",
      "104\n",
      "105\n",
      "106\n",
      "101\n",
      "102\n",
      "103\n",
      "104\n",
      "105\n",
      "106\n"
     ]
    }
   ],
   "source": [
    "## 不推荐\n",
    "def condition(item):\n",
    "    print(item+100)\n",
    "\n",
    "a_list = [1,2,3,4,5,6]\n",
    "found = False\n",
    "for item in a_list:\n",
    "    if condition(item):\n",
    "        found = True\n",
    "        break\n",
    "if found:\n",
    "    None\n",
    "\n",
    "## 推荐\n",
    "if any(condition(item) for item in a_list):\n",
    "    None"
   ]
  }
 ],
 "metadata": {
  "kernelspec": {
   "display_name": "Python 3",
   "language": "python",
   "name": "python3"
  },
  "language_info": {
   "codemirror_mode": {
    "name": "ipython",
    "version": 3
   },
   "file_extension": ".py",
   "mimetype": "text/x-python",
   "name": "python",
   "nbconvert_exporter": "python",
   "pygments_lexer": "ipython3",
   "version": "3.6.5"
  },
  "toc": {
   "base_numbering": 1.0,
   "nav_menu": {},
   "number_sections": true,
   "sideBar": true,
   "skip_h1_title": false,
   "title_cell": "Table of Contents",
   "title_sidebar": "Contents",
   "toc_cell": false,
   "toc_position": {
    "height": "calc(100% - 180px)",
    "left": "10px",
    "top": "150px",
    "width": "384px"
   },
   "toc_section_display": true,
   "toc_window_display": true
  },
  "varInspector": {
   "cols": {
    "lenName": 16.0,
    "lenType": 16.0,
    "lenVar": 40.0
   },
   "kernels_config": {
    "python": {
     "delete_cmd_postfix": "",
     "delete_cmd_prefix": "del ",
     "library": "var_list.py",
     "varRefreshCmd": "print(var_dic_list())"
    },
    "r": {
     "delete_cmd_postfix": ") ",
     "delete_cmd_prefix": "rm(",
     "library": "var_list.r",
     "varRefreshCmd": "cat(var_dic_list()) "
    }
   },
   "types_to_exclude": [
    "module",
    "function",
    "builtin_function_or_method",
    "instance",
    "_Feature"
   ],
   "window_display": false
  }
 },
 "nbformat": 4,
 "nbformat_minor": 2
}
